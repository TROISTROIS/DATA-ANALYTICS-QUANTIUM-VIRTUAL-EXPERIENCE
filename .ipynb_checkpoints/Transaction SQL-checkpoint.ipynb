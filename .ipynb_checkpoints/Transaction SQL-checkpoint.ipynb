{
 "cells": [
  {
   "cell_type": "code",
   "execution_count": 1,
   "id": "be9df6b2",
   "metadata": {},
   "outputs": [],
   "source": [
    "import psycopg2"
   ]
  },
  {
   "cell_type": "code",
   "execution_count": 6,
   "id": "8954dadc",
   "metadata": {},
   "outputs": [],
   "source": [
    "conn = psycopg2.connect(\"dbname=postgres user=postgres password=POSTGRES33\")\n",
    "conn.autocommit = True\n",
    "cur = conn.cursor()\n",
    "cur.execute(\"\"\"\n",
    "CREATE DATABASE transaction_db\n",
    "\"\"\")\n",
    "conn.autocommit = False"
   ]
  },
  {
   "cell_type": "code",
   "execution_count": 7,
   "id": "da56db81",
   "metadata": {},
   "outputs": [],
   "source": [
    "# connect to transaction_db database\n",
    "conn=psycopg2.connect(\"dbname=transaction_db user=postgres password='POSTGRES33'\")\n",
    "conn.autocommit = True\n",
    "cur=conn.cursor()\n",
    "cur.execute(\"CREATE SCHEMA store\")\n",
    "conn.commit()"
   ]
  },
  {
   "cell_type": "code",
   "execution_count": 8,
   "id": "84ea796a",
   "metadata": {},
   "outputs": [],
   "source": [
    "# loading the data from csv into table\n",
    "cur.execute(\"\"\"\n",
    "CREATE TABLE IF NOT EXISTS transaction_data (\n",
    "DATE integer,\n",
    "STORE_NBR text,\n",
    "LYLTY_CARD_NBR text,\n",
    "TXN_ID text,\n",
    "PROD_NBR text,\n",
    "PROD_NAME text,\n",
    "PROD_QTY text,\n",
    "TOT_SALES text);\"\"\")        \n",
    "with open(\"QVI_transaction_data.csv\",\"r\") as file:\n",
    "    cur.copy_expert(\"COPY transaction_data FROM STDIN WITH CSV HEADER;\",file)\n",
    "conn.commit()"
   ]
  },
  {
   "cell_type": "code",
   "execution_count": null,
   "id": "6245c875",
   "metadata": {},
   "outputs": [],
   "source": []
  }
 ],
 "metadata": {
  "kernelspec": {
   "display_name": "Python 3 (ipykernel)",
   "language": "python",
   "name": "python3"
  },
  "language_info": {
   "codemirror_mode": {
    "name": "ipython",
    "version": 3
   },
   "file_extension": ".py",
   "mimetype": "text/x-python",
   "name": "python",
   "nbconvert_exporter": "python",
   "pygments_lexer": "ipython3",
   "version": "3.9.12"
  }
 },
 "nbformat": 4,
 "nbformat_minor": 5
}
